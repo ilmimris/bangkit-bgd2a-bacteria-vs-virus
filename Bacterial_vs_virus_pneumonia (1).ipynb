{
  "nbformat": 4,
  "nbformat_minor": 0,
  "metadata": {
    "colab": {
      "name": "Bacterial vs virus pneumonia.ipynb",
      "provenance": []
    },
    "kernelspec": {
      "name": "python3",
      "display_name": "Python 3"
    },
    "accelerator": "GPU"
  },
  "cells": [
    {
      "cell_type": "code",
      "metadata": {
        "id": "d1kFLAVRGfxJ",
        "colab_type": "code",
        "colab": {
          "base_uri": "https://localhost:8080/",
          "height": 35
        },
        "outputId": "d0f99ff5-6bac-4bda-8688-7d6f622aafe6"
      },
      "source": [
        "from google.colab import drive\n",
        "drive.mount('/content/drive')"
      ],
      "execution_count": null,
      "outputs": [
        {
          "output_type": "stream",
          "text": [
            "Drive already mounted at /content/drive; to attempt to forcibly remount, call drive.mount(\"/content/drive\", force_remount=True).\n"
          ],
          "name": "stdout"
        }
      ]
    },
    {
      "cell_type": "code",
      "metadata": {
        "id": "OuBPA9j84u0t",
        "colab_type": "code",
        "colab": {}
      },
      "source": [
        "# !pip install tensorflow==2.1"
      ],
      "execution_count": null,
      "outputs": []
    },
    {
      "cell_type": "code",
      "metadata": {
        "id": "lp5sPgw5KgZX",
        "colab_type": "code",
        "colab": {}
      },
      "source": [
        "import os, shutil\n",
        "from tqdm import tqdm\n",
        "from tensorflow.keras.preprocessing.image import ImageDataGenerator"
      ],
      "execution_count": null,
      "outputs": []
    },
    {
      "cell_type": "code",
      "metadata": {
        "id": "U3LMjKLyLQJY",
        "colab_type": "code",
        "colab": {}
      },
      "source": [
        "path = '/content/drive/My Drive/Colab Notebooks/Bangkit/chest_xray/'"
      ],
      "execution_count": null,
      "outputs": []
    },
    {
      "cell_type": "code",
      "metadata": {
        "id": "Y9FwLp4PVuZe",
        "colab_type": "code",
        "colab": {}
      },
      "source": [
        "# split infected data into infected by virus or bacteria\n",
        "\n",
        "# os.mkdir(path + 'VvsB')\n",
        "# os.mkdir(path + 'VvsB/train')\n",
        "# os.mkdir(path + 'VvsB/val')\n",
        "# os.mkdir(path + 'VvsB/train/virus')\n",
        "# os.mkdir(path + 'VvsB/train/bacteria')\n",
        "# os.mkdir(path + 'VvsB/val/virus')\n",
        "# os.mkdir(path + 'VvsB/val/bacteria')\n",
        "# os.mkdir(path + 'VvsB/test')\n",
        "# os.mkdir(path + 'VvsB/test/virus')\n",
        "# os.mkdir(path + 'VvsB/test/bacteria')\n",
        "\n",
        "# directory = 'test'\n",
        "# for i in tqdm(os.listdir(path + '{}/PNEUMONIA'.format(directory))):\n",
        "#     if i.split('_')[1] == 'virus':\n",
        "#         shutil.copyfile(path + '{}/PNEUMONIA/'.format(directory) + i, path + 'VvsB/{}/virus/'.format(directory) + i)\n",
        "#     if i.split('_')[1] == 'bacteria':\n",
        "#         shutil.copyfile(path + '{}/PNEUMONIA/'.format(directory) + i, path + 'VvsB/{}/bacteria/'.format(directory) + i)"
      ],
      "execution_count": null,
      "outputs": []
    },
    {
      "cell_type": "code",
      "metadata": {
        "id": "oMjwsh6NKm1V",
        "colab_type": "code",
        "colab": {
          "base_uri": "https://localhost:8080/",
          "height": 35
        },
        "outputId": "f1857897-28dd-4e81-9116-417b5c17715f"
      },
      "source": [
        ""
      ],
      "execution_count": null,
      "outputs": [
        {
          "output_type": "stream",
          "text": [
            "100%|██████████| 390/390 [03:13<00:00,  2.01it/s]\n"
          ],
          "name": "stderr"
        }
      ]
    },
    {
      "cell_type": "code",
      "metadata": {
        "id": "FG5nLQ7VKpvN",
        "colab_type": "code",
        "colab": {
          "base_uri": "https://localhost:8080/",
          "height": 52
        },
        "outputId": "06a6f361-a6c8-4f95-c4d5-471516400204"
      },
      "source": [
        "split_path = path + 'VvsB'\n",
        "\n",
        "train_datagen = ImageDataGenerator(rescale = 1./255,\n",
        "                                   rotation_range=20,\n",
        "                                   shear_range=0.2,\n",
        "                                   zoom_range=0.2,\n",
        "                                   horizontal_flip=True,\n",
        "                                   width_shift_range=0.2,\n",
        "                                   height_shift_range=0.2,\n",
        "                                   fill_mode = 'nearest')\n",
        "\n",
        "\n",
        "test_datagen = ImageDataGenerator(rescale = 1./255)\n",
        "\n",
        "\n",
        "train_generator = train_datagen.flow_from_directory(split_path + '/train', \n",
        "                                                    target_size = (224,224),\n",
        "                                                    batch_size = 32,\n",
        "                                                    class_mode = 'binary')     \n",
        "\n",
        "validation_generator =  test_datagen.flow_from_directory(split_path + '/test', \n",
        "                                                    target_size = (224,224),\n",
        "                                                    batch_size = 32,\n",
        "                                                    class_mode = 'binary')\n"
      ],
      "execution_count": null,
      "outputs": [
        {
          "output_type": "stream",
          "text": [
            "Found 3874 images belonging to 2 classes.\n",
            "Found 390 images belonging to 2 classes.\n"
          ],
          "name": "stdout"
        }
      ]
    },
    {
      "cell_type": "code",
      "metadata": {
        "id": "A7V_T1jTg6er",
        "colab_type": "code",
        "colab": {
          "base_uri": "https://localhost:8080/",
          "height": 35
        },
        "outputId": "586505be-02b2-4334-a7c2-1dce714a5226"
      },
      "source": [
        "print(len(os.listdir(split_path + '/train/virus')))\n",
        "print(len(os.listdir(split_path + '/train/bacteria')))"
      ],
      "execution_count": null,
      "outputs": [
        {
          "output_type": "execute_result",
          "data": {
            "text/plain": [
              "1345"
            ]
          },
          "metadata": {
            "tags": []
          },
          "execution_count": 6
        }
      ]
    },
    {
      "cell_type": "code",
      "metadata": {
        "id": "TfY4_Ri36sBA",
        "colab_type": "code",
        "colab": {}
      },
      "source": [
        "from tensorflow.keras.applications import DenseNet121, MobileNet\n",
        "from tensorflow.keras.models import Sequential, Model\n",
        "from tensorflow.keras.layers import MaxPooling2D, Dropout, Flatten, Dense, Input, Conv2D"
      ],
      "execution_count": null,
      "outputs": []
    },
    {
      "cell_type": "markdown",
      "metadata": {
        "id": "6lIK44Orizz3",
        "colab_type": "text"
      },
      "source": [
        "# Model"
      ]
    },
    {
      "cell_type": "code",
      "metadata": {
        "id": "dANN9JAiOTb1",
        "colab_type": "code",
        "colab": {}
      },
      "source": [
        "model = Sequential([\n",
        "    Conv2D(8, (3,3), activation='relu', input_shape=(224, 224, 3)),\n",
        "    MaxPooling2D(),\n",
        "    \n",
        "    Conv2D(16, (3,3), activation='relu'),\n",
        "    MaxPooling2D(),\n",
        "    \n",
        "    Conv2D(24, (3,3), activation='relu'),\n",
        "    MaxPooling2D(),\n",
        "\n",
        "    Conv2D(32, (3,3), activation='relu'),\n",
        "    MaxPooling2D(),\n",
        "\n",
        "    Flatten(),\n",
        "    Dropout(0.3),\n",
        "\n",
        "    Dense(64, activation='relu'),\n",
        "    Dense(1, activation='sigmoid')\n",
        "])\n",
        "model.compile(loss = 'binary_crossentropy', optimizer='adam', metrics=['accuracy'])"
      ],
      "execution_count": null,
      "outputs": []
    },
    {
      "cell_type": "code",
      "metadata": {
        "id": "kKzXwOqQ-uDJ",
        "colab_type": "code",
        "colab": {
          "base_uri": "https://localhost:8080/",
          "height": 515
        },
        "outputId": "aa0d5727-f80f-4a96-e455-645691f1f8b6"
      },
      "source": [
        "model.summary()"
      ],
      "execution_count": null,
      "outputs": [
        {
          "output_type": "stream",
          "text": [
            "Model: \"sequential_1\"\n",
            "_________________________________________________________________\n",
            "Layer (type)                 Output Shape              Param #   \n",
            "=================================================================\n",
            "conv2d_3 (Conv2D)            (None, 222, 222, 8)       224       \n",
            "_________________________________________________________________\n",
            "max_pooling2d_5 (MaxPooling2 (None, 111, 111, 8)       0         \n",
            "_________________________________________________________________\n",
            "conv2d_4 (Conv2D)            (None, 109, 109, 16)      1168      \n",
            "_________________________________________________________________\n",
            "max_pooling2d_6 (MaxPooling2 (None, 54, 54, 16)        0         \n",
            "_________________________________________________________________\n",
            "conv2d_5 (Conv2D)            (None, 52, 52, 24)        3480      \n",
            "_________________________________________________________________\n",
            "max_pooling2d_7 (MaxPooling2 (None, 26, 26, 24)        0         \n",
            "_________________________________________________________________\n",
            "flatten_3 (Flatten)          (None, 16224)             0         \n",
            "_________________________________________________________________\n",
            "dropout_7 (Dropout)          (None, 16224)             0         \n",
            "_________________________________________________________________\n",
            "dense_11 (Dense)             (None, 256)               4153600   \n",
            "_________________________________________________________________\n",
            "dense_12 (Dense)             (None, 1)                 257       \n",
            "=================================================================\n",
            "Total params: 4,158,729\n",
            "Trainable params: 4,158,729\n",
            "Non-trainable params: 0\n",
            "_________________________________________________________________\n"
          ],
          "name": "stdout"
        }
      ]
    },
    {
      "cell_type": "code",
      "metadata": {
        "id": "7b9DZEQFkBQM",
        "colab_type": "code",
        "colab": {
          "base_uri": "https://localhost:8080/",
          "height": 532
        },
        "outputId": "1561dd16-a840-4794-f6c0-6cca2630a255"
      },
      "source": [
        "history = model.fit_generator(train_generator, epochs = 10, validation_data = validation_generator)"
      ],
      "execution_count": null,
      "outputs": [
        {
          "output_type": "stream",
          "text": [
            "WARNING:tensorflow:sample_weight modes were coerced from\n",
            "  ...\n",
            "    to  \n",
            "  ['...']\n",
            "WARNING:tensorflow:sample_weight modes were coerced from\n",
            "  ...\n",
            "    to  \n",
            "  ['...']\n",
            "Train for 122 steps, validate for 13 steps\n",
            "Epoch 1/10\n",
            "122/122 [==============================] - 69s 569ms/step - loss: 0.5308 - accuracy: 0.7519 - val_loss: 0.3216 - val_accuracy: 0.9077\n",
            "Epoch 2/10\n",
            "122/122 [==============================] - 70s 570ms/step - loss: 0.5267 - accuracy: 0.7506 - val_loss: 0.2857 - val_accuracy: 0.9103\n",
            "Epoch 3/10\n",
            "122/122 [==============================] - 68s 556ms/step - loss: 0.5295 - accuracy: 0.7483 - val_loss: 0.3412 - val_accuracy: 0.8974\n",
            "Epoch 4/10\n",
            "122/122 [==============================] - 67s 546ms/step - loss: 0.5254 - accuracy: 0.7540 - val_loss: 0.2993 - val_accuracy: 0.9103\n",
            "Epoch 5/10\n",
            "122/122 [==============================] - 66s 543ms/step - loss: 0.5300 - accuracy: 0.7553 - val_loss: 0.3121 - val_accuracy: 0.9179\n",
            "Epoch 6/10\n",
            "122/122 [==============================] - 66s 543ms/step - loss: 0.5251 - accuracy: 0.7506 - val_loss: 0.2962 - val_accuracy: 0.9154\n",
            "Epoch 7/10\n",
            "122/122 [==============================] - 68s 556ms/step - loss: 0.5252 - accuracy: 0.7548 - val_loss: 0.3304 - val_accuracy: 0.9051\n",
            "Epoch 8/10\n",
            "122/122 [==============================] - 67s 549ms/step - loss: 0.5262 - accuracy: 0.7514 - val_loss: 0.3096 - val_accuracy: 0.8897\n",
            "Epoch 9/10\n",
            "122/122 [==============================] - 66s 541ms/step - loss: 0.5188 - accuracy: 0.7597 - val_loss: 0.2998 - val_accuracy: 0.9026\n",
            "Epoch 10/10\n",
            "122/122 [==============================] - 66s 538ms/step - loss: 0.5225 - accuracy: 0.7512 - val_loss: 0.3111 - val_accuracy: 0.9051\n"
          ],
          "name": "stdout"
        }
      ]
    },
    {
      "cell_type": "code",
      "metadata": {
        "id": "kdVRK0RsLmwT",
        "colab_type": "code",
        "colab": {}
      },
      "source": [
        "history1 = history"
      ],
      "execution_count": null,
      "outputs": []
    },
    {
      "cell_type": "code",
      "metadata": {
        "id": "VGH5TPUoCt6o",
        "colab_type": "code",
        "colab": {}
      },
      "source": [
        "import matplotlib.pyplot as plt"
      ],
      "execution_count": null,
      "outputs": []
    },
    {
      "cell_type": "code",
      "metadata": {
        "id": "zFRJD4KUCjOj",
        "colab_type": "code",
        "colab": {
          "base_uri": "https://localhost:8080/",
          "height": 336
        },
        "outputId": "db158d61-423d-4bfd-becb-b93959dd6115"
      },
      "source": [
        "acc = history.history['accuracy']\n",
        "val_acc = history.history['val_accuracy']\n",
        "loss = history.history['loss']\n",
        "val_loss = history.history['val_loss']\n",
        "\n",
        "epochs = range(len(acc))\n",
        "\n",
        "plt.figure(figsize=(10,5))\n",
        "plt.subplot(121)\n",
        "plt.plot(epochs, acc, 'r', label='Training accuracy')\n",
        "plt.plot(epochs, val_acc, 'b', label='Validation accuracy')\n",
        "plt.title('Training and validation accuracy')\n",
        "plt.subplot(122)\n",
        "plt.plot(epochs, loss, 'r', label='Training Loss')\n",
        "plt.plot(epochs, val_loss, 'b', label='Validation Loss')\n",
        "plt.ylim(0,2)\n",
        "plt.title('Training and validation loss')\n",
        "plt.legend()\n",
        "\n",
        "plt.show()"
      ],
      "execution_count": null,
      "outputs": [
        {
          "output_type": "display_data",
          "data": {
            "image/png": "[encoded data removed]",
            "text/plain": [
              "<Figure size 720x360 with 2 Axes>"
            ]
          },
          "metadata": {
            "tags": [],
            "needs_background": "light"
          }
        }
      ]
    },
    {
      "cell_type": "code",
      "metadata": {
        "id": "nwjM0oYquYkb",
        "colab_type": "code",
        "colab": {}
      },
      "source": [
        "model.save(path + 'virus_vs_bacteria.h5')"
      ],
      "execution_count": null,
      "outputs": []
    },
    {
      "cell_type": "code",
      "metadata": {
        "id": "OFKz_JPBxX8r",
        "colab_type": "code",
        "colab": {}
      },
      "source": [
        "import tensorflowjs as tfjs"
      ],
      "execution_count": null,
      "outputs": []
    },
    {
      "cell_type": "code",
      "metadata": {
        "id": "vxzfXWoGxzmJ",
        "colab_type": "code",
        "colab": {
          "base_uri": "https://localhost:8080/",
          "height": 72
        },
        "outputId": "0898f393-9d1e-4af5-e2a0-a1e6817d1dbc"
      },
      "source": [
        "tfjs.converters.save_keras_model(model, path+'virus_vs_bacteria_90')"
      ],
      "execution_count": null,
      "outputs": [
        {
          "output_type": "stream",
          "text": [
            "/usr/local/lib/python3.6/dist-packages/tensorflowjs/converters/keras_h5_conversion.py:122: H5pyDeprecationWarning: The default file mode will change to 'r' (read-only) in h5py 3.0. To suppress this warning, pass the mode you need to h5py.File(), or set the global default h5.get_config().default_file_mode, or set the environment variable H5PY_DEFAULT_READONLY=1. Available modes are: 'r', 'r+', 'w', 'w-'/'x', 'a'. See the docs for details.\n",
            "  return h5py.File(h5file)\n"
          ],
          "name": "stderr"
        }
      ]
    }
  ]
}